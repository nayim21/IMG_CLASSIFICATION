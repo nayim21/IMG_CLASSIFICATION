{
 "cells": [
  {
   "cell_type": "code",
   "execution_count": 1,
   "id": "f9f1a0f3",
   "metadata": {},
   "outputs": [],
   "source": [
    "import tensorflow as tf\n",
    "import keras\n",
    "from keras.models import Sequential\n",
    "from keras.layers import Dense, Dropout, Flatten\n",
    "from keras.layers import Conv2D, MaxPooling2D\n",
    "from keras.utils import to_categorical\n",
    "from keras.preprocessing import image\n",
    "import numpy as np\n",
    "import pandas as pd\n",
    "import matplotlib.pyplot as plt\n",
    "from PIL import Image\n",
    "import glob\n",
    "import os\n",
    "import shutil\n",
    "from collections import Counter\n",
    "import tensorflow as tf\n",
    "from tensorflow.keras.layers import Conv2D, Conv2DTranspose, UpSampling2D,\\\n",
    "    Dense, Layer, Reshape, InputLayer, Flatten, Input, MaxPooling2D\n",
    "from alibi_detect.od import OutlierAE\n",
    "from alibi_detect.utils.visualize import plot_instance_score, plot_feature_outlier_image\n",
    "\n",
    "\n",
    "from tqdm import tqdm\n",
    "%matplotlib inline"
   ]
  },
  {
   "cell_type": "code",
   "execution_count": 2,
   "id": "272ee360",
   "metadata": {},
   "outputs": [
    {
     "data": {
      "text/html": [
       "<div>\n",
       "<style scoped>\n",
       "    .dataframe tbody tr th:only-of-type {\n",
       "        vertical-align: middle;\n",
       "    }\n",
       "\n",
       "    .dataframe tbody tr th {\n",
       "        vertical-align: top;\n",
       "    }\n",
       "\n",
       "    .dataframe thead th {\n",
       "        text-align: right;\n",
       "    }\n",
       "</style>\n",
       "<table border=\"1\" class=\"dataframe\">\n",
       "  <thead>\n",
       "    <tr style=\"text-align: right;\">\n",
       "      <th></th>\n",
       "      <th>image_Addr</th>\n",
       "      <th>label_image</th>\n",
       "    </tr>\n",
       "  </thead>\n",
       "  <tbody>\n",
       "    <tr>\n",
       "      <th>0</th>\n",
       "      <td>100120000004.jpg</td>\n",
       "      <td>4</td>\n",
       "    </tr>\n",
       "    <tr>\n",
       "      <th>1</th>\n",
       "      <td>100150000077.jpg</td>\n",
       "      <td>5</td>\n",
       "    </tr>\n",
       "    <tr>\n",
       "      <th>2</th>\n",
       "      <td>100120000027.jpg</td>\n",
       "      <td>4</td>\n",
       "    </tr>\n",
       "    <tr>\n",
       "      <th>3</th>\n",
       "      <td>10030000008.jpg</td>\n",
       "      <td>1</td>\n",
       "    </tr>\n",
       "    <tr>\n",
       "      <th>4</th>\n",
       "      <td>10030000045.jpg</td>\n",
       "      <td>1</td>\n",
       "    </tr>\n",
       "  </tbody>\n",
       "</table>\n",
       "</div>"
      ],
      "text/plain": [
       "         image_Addr  label_image\n",
       "0  100120000004.jpg            4\n",
       "1  100150000077.jpg            5\n",
       "2  100120000027.jpg            4\n",
       "3   10030000008.jpg            1\n",
       "4   10030000045.jpg            1"
      ]
     },
     "execution_count": 2,
     "metadata": {},
     "output_type": "execute_result"
    }
   ],
   "source": [
    "Xtrain = pd.read_csv(r'd:\\dataset\\nosepar\\xtrain.csv')    # reading the csv file\n",
    "Xtrain.head()"
   ]
  },
  {
   "cell_type": "code",
   "execution_count": 3,
   "id": "7f14b163",
   "metadata": {},
   "outputs": [
    {
     "name": "stdout",
     "output_type": "stream",
     "text": [
      "<class 'pandas.core.frame.DataFrame'>\n",
      "RangeIndex: 412 entries, 0 to 411\n",
      "Data columns (total 2 columns):\n",
      " #   Column       Non-Null Count  Dtype \n",
      "---  ------       --------------  ----- \n",
      " 0   image_Addr   412 non-null    object\n",
      " 1   label_image  412 non-null    int64 \n",
      "dtypes: int64(1), object(1)\n",
      "memory usage: 6.6+ KB\n"
     ]
    }
   ],
   "source": [
    "Xtrain.info()"
   ]
  },
  {
   "cell_type": "code",
   "execution_count": 4,
   "id": "c9b3c4fc",
   "metadata": {},
   "outputs": [
    {
     "data": {
      "text/html": [
       "<div>\n",
       "<style scoped>\n",
       "    .dataframe tbody tr th:only-of-type {\n",
       "        vertical-align: middle;\n",
       "    }\n",
       "\n",
       "    .dataframe tbody tr th {\n",
       "        vertical-align: top;\n",
       "    }\n",
       "\n",
       "    .dataframe thead th {\n",
       "        text-align: right;\n",
       "    }\n",
       "</style>\n",
       "<table border=\"1\" class=\"dataframe\">\n",
       "  <thead>\n",
       "    <tr style=\"text-align: right;\">\n",
       "      <th></th>\n",
       "      <th>image_Addr</th>\n",
       "      <th>label_image</th>\n",
       "    </tr>\n",
       "  </thead>\n",
       "  <tbody>\n",
       "    <tr>\n",
       "      <th>0</th>\n",
       "      <td>10090000065.png</td>\n",
       "      <td>3</td>\n",
       "    </tr>\n",
       "    <tr>\n",
       "      <th>1</th>\n",
       "      <td>10090000020.jpg</td>\n",
       "      <td>3</td>\n",
       "    </tr>\n",
       "    <tr>\n",
       "      <th>2</th>\n",
       "      <td>10090000096.jpg</td>\n",
       "      <td>3</td>\n",
       "    </tr>\n",
       "    <tr>\n",
       "      <th>3</th>\n",
       "      <td>100150000042.jpg</td>\n",
       "      <td>5</td>\n",
       "    </tr>\n",
       "    <tr>\n",
       "      <th>4</th>\n",
       "      <td>10060000089.jpg</td>\n",
       "      <td>2</td>\n",
       "    </tr>\n",
       "  </tbody>\n",
       "</table>\n",
       "</div>"
      ],
      "text/plain": [
       "         image_Addr  label_image\n",
       "0   10090000065.png            3\n",
       "1   10090000020.jpg            3\n",
       "2   10090000096.jpg            3\n",
       "3  100150000042.jpg            5\n",
       "4   10060000089.jpg            2"
      ]
     },
     "execution_count": 4,
     "metadata": {},
     "output_type": "execute_result"
    }
   ],
   "source": [
    "Xtest = pd.read_csv(r'd:\\dataset\\nosepar\\xtest.csv')    # reading the csv file\n",
    "Xtest.head()"
   ]
  },
  {
   "cell_type": "code",
   "execution_count": 5,
   "id": "af722701",
   "metadata": {},
   "outputs": [
    {
     "name": "stdout",
     "output_type": "stream",
     "text": [
      "<class 'pandas.core.frame.DataFrame'>\n",
      "RangeIndex: 206 entries, 0 to 205\n",
      "Data columns (total 2 columns):\n",
      " #   Column       Non-Null Count  Dtype \n",
      "---  ------       --------------  ----- \n",
      " 0   image_Addr   206 non-null    object\n",
      " 1   label_image  206 non-null    int64 \n",
      "dtypes: int64(1), object(1)\n",
      "memory usage: 3.3+ KB\n"
     ]
    }
   ],
   "source": [
    "Xtest.info()"
   ]
  },
  {
   "cell_type": "code",
   "execution_count": 7,
   "id": "9bcbc390",
   "metadata": {},
   "outputs": [
    {
     "name": "stderr",
     "output_type": "stream",
     "text": [
      "100%|████████████████████████████████████████████████████████████████████████████████| 412/412 [00:04<00:00, 97.77it/s]\n",
      "100%|███████████████████████████████████████████████████████████████████████████████| 412/412 [00:02<00:00, 167.40it/s]\n",
      "100%|███████████████████████████████████████████████████████████████████████████████| 412/412 [00:03<00:00, 127.66it/s]\n",
      "100%|███████████████████████████████████████████████████████████████████████████████| 412/412 [00:01<00:00, 237.05it/s]\n",
      " 40%|███████████████████████████████▍                                               | 164/412 [00:00<00:00, 303.67it/s]C:\\ProgramData\\Anaconda3\\lib\\site-packages\\PIL\\Image.py:959: UserWarning: Palette images with Transparency expressed in bytes should be converted to RGBA images\n",
      "  warnings.warn(\n",
      "100%|███████████████████████████████████████████████████████████████████████████████| 412/412 [00:01<00:00, 229.33it/s]\n"
     ]
    }
   ],
   "source": [
    "train1_image = []\n",
    "for i in tqdm(range(Xtrain.shape[0])):\n",
    "    if  (Xtrain['label_image'][i] ==1):\n",
    "        img = tf.keras.utils.load_img('D:/dataset/nosepar/Xray/Xray/'+Xtrain['image_Addr'][i],target_size=(64,64,3))\n",
    "        img = tf.keras.utils.img_to_array(img)\n",
    "        img = img/255\n",
    "        train1_image.append(img)\n",
    "        tf.keras.utils.save_img('D:/dataset/nosepar/xray-train/xray1/'+Xtrain['image_Addr'][i],img)\n",
    "X1 = np.array(train1_image)\n",
    "\n",
    "train2_image = []\n",
    "for i in tqdm(range(Xtrain.shape[0])):\n",
    "    if  (Xtrain['label_image'][i] ==2):\n",
    "        img = tf.keras.utils.load_img('D:/dataset/nosepar/Xray/Xray/'+Xtrain['image_Addr'][i],target_size=(64,64,3))\n",
    "        img = tf.keras.utils.img_to_array(img)\n",
    "        img = img/255\n",
    "        train2_image.append(img)\n",
    "        tf.keras.utils.save_img('D:/dataset/nosepar/xray-train/xray2/'+Xtrain['image_Addr'][i],img)\n",
    "X2 = np.array(train2_image)\n",
    "\n",
    "train3_image = []\n",
    "for i in tqdm(range(Xtrain.shape[0])):\n",
    "    if  (Xtrain['label_image'][i] ==3):\n",
    "        img = tf.keras.utils.load_img('D:/dataset/nosepar/Xray/Xray/'+Xtrain['image_Addr'][i],target_size=(64,64,3))\n",
    "        img = tf.keras.utils.img_to_array(img)\n",
    "        img = img/255\n",
    "        train3_image.append(img)\n",
    "        tf.keras.utils.save_img('D:/dataset/nosepar/xray-train/xray3/'+Xtrain['image_Addr'][i],img)\n",
    "X3 = np.array(train3_image)\n",
    "\n",
    "train4_image = []\n",
    "for i in tqdm(range(Xtrain.shape[0])):\n",
    "    if  (Xtrain['label_image'][i] ==4):\n",
    "        img = tf.keras.utils.load_img('D:/dataset/nosepar/Xray/Xray/'+Xtrain['image_Addr'][i],target_size=(64,64,3))\n",
    "        img = tf.keras.utils.img_to_array(img)\n",
    "        img = img/255\n",
    "        train4_image.append(img)\n",
    "        tf.keras.utils.save_img('D:/dataset/nosepar/xray-train/xray4/'+Xtrain['image_Addr'][i],img)\n",
    "X4 = np.array(train4_image)\n",
    "\n",
    "train5_image = []\n",
    "for i in tqdm(range(Xtrain.shape[0])):\n",
    "    if  (Xtrain['label_image'][i] ==5):\n",
    "        img = tf.keras.utils.load_img('D:/dataset/nosepar/Xray/Xray/'+Xtrain['image_Addr'][i],target_size=(64,64,3))\n",
    "        img = tf.keras.utils.img_to_array(img)\n",
    "        img = img/255\n",
    "        train5_image.append(img)\n",
    "        tf.keras.utils.save_img('D:/dataset/nosepar/xray-train/xray5/'+Xtrain['image_Addr'][i],img)\n",
    "X5= np.array(train5_image)\n",
    "\n",
    "\n"
   ]
  },
  {
   "cell_type": "code",
   "execution_count": 8,
   "id": "6baf6734",
   "metadata": {},
   "outputs": [
    {
     "data": {
      "text/plain": [
       "(94, 64, 64, 3)"
      ]
     },
     "execution_count": 8,
     "metadata": {},
     "output_type": "execute_result"
    }
   ],
   "source": [
    "X1.shape"
   ]
  },
  {
   "cell_type": "code",
   "execution_count": 9,
   "id": "668fc815",
   "metadata": {},
   "outputs": [
    {
     "data": {
      "text/plain": [
       "(79, 64, 64, 3)"
      ]
     },
     "execution_count": 9,
     "metadata": {},
     "output_type": "execute_result"
    }
   ],
   "source": [
    "X2.shape"
   ]
  },
  {
   "cell_type": "code",
   "execution_count": 10,
   "id": "c05b82ce",
   "metadata": {},
   "outputs": [
    {
     "data": {
      "text/plain": [
       "(86, 64, 64, 3)"
      ]
     },
     "execution_count": 10,
     "metadata": {},
     "output_type": "execute_result"
    }
   ],
   "source": [
    "X3.shape"
   ]
  },
  {
   "cell_type": "code",
   "execution_count": 11,
   "id": "14d1aac5",
   "metadata": {},
   "outputs": [
    {
     "data": {
      "text/plain": [
       "(72, 64, 64, 3)"
      ]
     },
     "execution_count": 11,
     "metadata": {},
     "output_type": "execute_result"
    }
   ],
   "source": [
    "X4.shape"
   ]
  },
  {
   "cell_type": "code",
   "execution_count": 12,
   "id": "25fba5d9",
   "metadata": {},
   "outputs": [
    {
     "data": {
      "text/plain": [
       "(81, 64, 64, 3)"
      ]
     },
     "execution_count": 12,
     "metadata": {},
     "output_type": "execute_result"
    }
   ],
   "source": [
    "X5.shape"
   ]
  },
  {
   "cell_type": "code",
   "execution_count": 13,
   "id": "7ed34924",
   "metadata": {},
   "outputs": [
    {
     "name": "stderr",
     "output_type": "stream",
     "text": [
      "100%|███████████████████████████████████████████████████████████████████████████████| 206/206 [00:01<00:00, 180.86it/s]\n",
      "100%|███████████████████████████████████████████████████████████████████████████████| 206/206 [00:00<00:00, 362.03it/s]\n",
      "100%|███████████████████████████████████████████████████████████████████████████████| 206/206 [00:01<00:00, 106.87it/s]\n",
      "100%|███████████████████████████████████████████████████████████████████████████████| 206/206 [00:00<00:00, 226.73it/s]\n",
      "100%|███████████████████████████████████████████████████████████████████████████████| 206/206 [00:00<00:00, 330.28it/s]\n"
     ]
    }
   ],
   "source": [
    " \n",
    "test1_image = []\n",
    "for i in tqdm(range(Xtest.shape[0])):\n",
    "    if  (Xtest['label_image'][i] ==1):       \n",
    "        img = tf.keras.utils.load_img('D:/dataset/nosepar/Xray/Xray/'+Xtest['image_Addr'][i],target_size=(64,64,3))\n",
    "        img = tf.keras.utils.img_to_array(img)\n",
    "        img = img/255\n",
    "        test1_image.append(img)\n",
    "        tf.keras.utils.save_img('D:/dataset/nosepar/xray-test/xray1/'+Xtest['image_Addr'][i],img)\n",
    "XX1 = np.array(test1_image)\n",
    "\n",
    "test2_image = []\n",
    "for i in tqdm(range(Xtest.shape[0])):\n",
    "    if  (Xtest['label_image'][i] ==2):       \n",
    "        img = tf.keras.utils.load_img('D:/dataset/nosepar/Xray/Xray/'+Xtest['image_Addr'][i],target_size=(64,64,3))\n",
    "        img = tf.keras.utils.img_to_array(img)\n",
    "        img = img/255\n",
    "        test2_image.append(img)\n",
    "        tf.keras.utils.save_img('D:/dataset/nosepar/xray-test/xray2/'+Xtest['image_Addr'][i],img)\n",
    "XX2 = np.array(test2_image)\n",
    "\n",
    "test3_image = []\n",
    "for i in tqdm(range(Xtest.shape[0])):\n",
    "    if  (Xtest['label_image'][i] ==3):       \n",
    "        img = tf.keras.utils.load_img('D:/dataset/nosepar/Xray/Xray/'+Xtest['image_Addr'][i],target_size=(64,64,3))\n",
    "        img = tf.keras.utils.img_to_array(img)\n",
    "        img = img/255\n",
    "        test3_image.append(img)\n",
    "        tf.keras.utils.save_img('D:/dataset/nosepar/xray-test/xray3/'+Xtest['image_Addr'][i],img)\n",
    "XX3 = np.array(test3_image)\n",
    "\n",
    "test4_image = []\n",
    "for i in tqdm(range(Xtest.shape[0])):\n",
    "    if  (Xtest['label_image'][i] ==4):       \n",
    "        img = tf.keras.utils.load_img('D:/dataset/nosepar/Xray/Xray/'+Xtest['image_Addr'][i],target_size=(64,64,3))\n",
    "        img = tf.keras.utils.img_to_array(img)\n",
    "        img = img/255\n",
    "        test4_image.append(img)\n",
    "        tf.keras.utils.save_img('D:/dataset/nosepar/xray-test/xray4/'+Xtest['image_Addr'][i],img)\n",
    "XX4= np.array(test4_image)\n",
    "\n",
    "test5_image = []\n",
    "for i in tqdm(range(Xtest.shape[0])):\n",
    "    if  (Xtest['label_image'][i] ==5):       \n",
    "        img = tf.keras.utils.load_img('D:/dataset/nosepar/Xray/Xray/'+Xtest['image_Addr'][i],target_size=(64,64,3))\n",
    "        img = tf.keras.utils.img_to_array(img)\n",
    "        img = img/255\n",
    "        test5_image.append(img)\n",
    "        tf.keras.utils.save_img('D:/dataset/nosepar/xray-test/xray5/'+Xtest['image_Addr'][i],img)\n",
    "XX5 = np.array(test5_image)"
   ]
  },
  {
   "cell_type": "code",
   "execution_count": 14,
   "id": "d038d600",
   "metadata": {},
   "outputs": [
    {
     "data": {
      "text/plain": [
       "(43, 64, 64, 3)"
      ]
     },
     "execution_count": 14,
     "metadata": {},
     "output_type": "execute_result"
    }
   ],
   "source": [
    "XX1.shape"
   ]
  },
  {
   "cell_type": "code",
   "execution_count": 15,
   "id": "61bfab11",
   "metadata": {},
   "outputs": [
    {
     "data": {
      "text/plain": [
       "(33, 64, 64, 3)"
      ]
     },
     "execution_count": 15,
     "metadata": {},
     "output_type": "execute_result"
    }
   ],
   "source": [
    "XX2.shape"
   ]
  },
  {
   "cell_type": "code",
   "execution_count": 16,
   "id": "826789dd",
   "metadata": {},
   "outputs": [
    {
     "data": {
      "text/plain": [
       "(49, 64, 64, 3)"
      ]
     },
     "execution_count": 16,
     "metadata": {},
     "output_type": "execute_result"
    }
   ],
   "source": [
    "XX3.shape"
   ]
  },
  {
   "cell_type": "code",
   "execution_count": 17,
   "id": "76bf478a",
   "metadata": {},
   "outputs": [
    {
     "data": {
      "text/plain": [
       "(47, 64, 64, 3)"
      ]
     },
     "execution_count": 17,
     "metadata": {},
     "output_type": "execute_result"
    }
   ],
   "source": [
    "XX4.shape"
   ]
  },
  {
   "cell_type": "code",
   "execution_count": 18,
   "id": "c8a776f6",
   "metadata": {},
   "outputs": [
    {
     "data": {
      "text/plain": [
       "(34, 64, 64, 3)"
      ]
     },
     "execution_count": 18,
     "metadata": {},
     "output_type": "execute_result"
    }
   ],
   "source": [
    "XX5.shape"
   ]
  },
  {
   "cell_type": "code",
   "execution_count": 29,
   "id": "a1bbab54",
   "metadata": {},
   "outputs": [],
   "source": [
    "path_train = 'D:/dataset/nosepar/xray-train/xray1/'\n",
    "path_test = 'D:/dataset/nosepar/xray-test/xray1/'\n",
    "\n",
    "\n",
    "train = X1.astype('float32') / 255.\n",
    "test = XX1.astype('float32') / 255.\n"
   ]
  },
  {
   "cell_type": "code",
   "execution_count": 30,
   "id": "5ae72d94",
   "metadata": {},
   "outputs": [
    {
     "data": {
      "text/plain": [
       "(94, 64, 64, 3)"
      ]
     },
     "execution_count": 30,
     "metadata": {},
     "output_type": "execute_result"
    }
   ],
   "source": [
    "train.shape"
   ]
  },
  {
   "cell_type": "code",
   "execution_count": 31,
   "id": "d1004539",
   "metadata": {},
   "outputs": [
    {
     "data": {
      "text/plain": [
       "(43, 64, 64, 3)"
      ]
     },
     "execution_count": 31,
     "metadata": {},
     "output_type": "execute_result"
    }
   ],
   "source": [
    "test.shape"
   ]
  },
  {
   "cell_type": "code",
   "execution_count": 32,
   "id": "be8f4a9d",
   "metadata": {
    "scrolled": true
   },
   "outputs": [
    {
     "name": "stderr",
     "output_type": "stream",
     "text": [
      "WARNING:absl:`lr` is deprecated, please use `learning_rate` instead, or use the legacy optimizer, e.g.,tf.keras.optimizers.legacy.Adam.\n"
     ]
    },
    {
     "name": "stdout",
     "output_type": "stream",
     "text": [
      "2/2 [=] - 8s 3s/step - loss_ma: 0.2481\n",
      "2/2 [=] - 8s 3s/step - loss_ma: 0.2470\n",
      "2/2 [=] - 8s 3s/step - loss_ma: 0.2451\n",
      "2/2 [=] - 8s 3s/step - loss_ma: 0.2413\n",
      "2/2 [=] - 8s 3s/step - loss_ma: 0.2253\n",
      "2/2 [=] - 8s 3s/step - loss_ma: 0.0658\n",
      "2/2 [=] - 8s 3s/step - loss_ma: 5.6351e-04\n",
      "2/2 [=] - 8s 3s/step - loss_ma: 1.3836e-05\n",
      "2/2 [=] - 8s 3s/step - loss_ma: 4.4104e-06\n",
      "2/2 [=] - 7s 3s/step - loss_ma: 4.3566e-06\n",
      "2/2 [=] - 7s 3s/step - loss_ma: 4.3182e-06\n",
      "2/2 [=] - 8s 3s/step - loss_ma: 4.3549e-06\n",
      "2/2 [=] - 8s 3s/step - loss_ma: 4.3670e-06\n",
      "2/2 [=] - 7s 3s/step - loss_ma: 4.3095e-06\n",
      "2/2 [=] - 7s 3s/step - loss_ma: 4.3801e-06\n",
      "2/2 [=] - 9s 4s/step - loss_ma: 4.3564e-06\n",
      "2/2 [=] - 9s 3s/step - loss_ma: 4.3640e-06\n",
      "2/2 [=] - 8s 3s/step - loss_ma: 4.2996e-06\n",
      "2/2 [=] - 8s 3s/step - loss_ma: 4.3488e-06\n",
      "2/2 [=] - 9s 3s/step - loss_ma: 4.3470e-06\n"
     ]
    }
   ],
   "source": [
    "encoding_dim = 1024\n",
    "dense_dim = [8, 8, 128]\n",
    "\n",
    "encoder_net = tf.keras.Sequential(\n",
    "  [\n",
    "      InputLayer(input_shape=train[0].shape),\n",
    "      Conv2D(64, 4, strides=2, padding='same', activation=tf.nn.relu),\n",
    "      Conv2D(128, 4, strides=2, padding='same', activation=tf.nn.relu),\n",
    "      Conv2D(512, 4, strides=2, padding='same', activation=tf.nn.relu),\n",
    "      Flatten(),\n",
    "      Dense(encoding_dim,)\n",
    "  ])\n",
    "\n",
    "decoder_net = tf.keras.Sequential(\n",
    "  [\n",
    "      InputLayer(input_shape=(encoding_dim,)),\n",
    "      Dense(np.prod(dense_dim)),\n",
    "      Reshape(target_shape=dense_dim),\n",
    "      Conv2DTranspose(256, 4, strides=2, padding='same', activation=tf.nn.relu),\n",
    "      Conv2DTranspose(64, 4, strides=2, padding='same', activation=tf.nn.relu),\n",
    "      Conv2DTranspose(3, 4, strides=2, padding='same', activation='sigmoid')\n",
    "  ])\n",
    "\n",
    "od = OutlierAE( threshold = 0.001,\n",
    "                encoder_net=encoder_net,\n",
    "                decoder_net=decoder_net)\n",
    "\n",
    "adam = tf.keras.optimizers.Adam(lr=1e-4)\n",
    "\n",
    "od.fit(train, epochs=20, verbose=True,\n",
    "       optimizer = adam)\n",
    "\n",
    "od.infer_threshold(test, threshold_perc=70)\n",
    "\n",
    "preds = od.predict(test, outlier_type='instance',return_instance_score=True,return_feature_score=True)\n"
   ]
  },
  {
   "cell_type": "code",
   "execution_count": 33,
   "id": "fae7950c",
   "metadata": {},
   "outputs": [
    {
     "data": {
      "text/plain": [
       "{'data': {'instance_score': array([4.9079936e-06, 3.5512628e-06, 5.2855903e-06, 5.1924326e-06,\n",
       "         6.4059623e-06, 3.5475143e-06, 4.5840266e-06, 2.5379875e-06,\n",
       "         4.2397419e-06, 4.0531636e-06, 2.4272233e-06, 3.4495515e-06,\n",
       "         5.8464707e-06, 5.2597265e-06, 3.9233109e-06, 6.0553698e-06,\n",
       "         5.7730235e-06, 4.7480712e-06, 4.2263159e-06, 3.7089424e-06,\n",
       "         4.5840266e-06, 4.1586295e-06, 7.9549091e-06, 2.4235594e-06,\n",
       "         2.9709579e-06, 5.3174995e-06, 2.7650324e-06, 4.9079936e-06,\n",
       "         2.5379875e-06, 4.3857235e-06, 5.7669745e-06, 4.6687378e-06,\n",
       "         3.7431016e-06, 5.8464707e-06, 6.5026493e-06, 4.0402479e-06,\n",
       "         4.0402479e-06, 7.1575537e-06, 3.5126802e-06, 3.9083980e-06,\n",
       "         5.9668696e-06, 3.7574628e-06, 7.4509931e-06], dtype=float32),\n",
       "  'feature_score': array([[[[1.98900239e-07, 1.98900239e-07, 1.98900239e-07],\n",
       "           [1.98900239e-07, 1.98900239e-07, 1.98900239e-07],\n",
       "           [1.98900239e-07, 1.98900239e-07, 1.98900239e-07],\n",
       "           ...,\n",
       "           [1.98900239e-07, 1.98900239e-07, 1.98900239e-07],\n",
       "           [1.98900239e-07, 1.98900239e-07, 1.98900239e-07],\n",
       "           [1.98900239e-07, 1.98900239e-07, 1.98900239e-07]],\n",
       "  \n",
       "          [[1.04298458e-07, 1.04298458e-07, 1.04298458e-07],\n",
       "           [1.04298458e-07, 1.04298458e-07, 1.04298458e-07],\n",
       "           [9.46017806e-08, 9.46017806e-08, 9.46017806e-08],\n",
       "           ...,\n",
       "           [1.25110844e-07, 1.25110844e-07, 1.25110844e-07],\n",
       "           [1.14468151e-07, 1.14468151e-07, 1.14468151e-07],\n",
       "           [1.14468151e-07, 1.14468151e-07, 1.14468151e-07]],\n",
       "  \n",
       "          [[1.14468151e-07, 1.14468151e-07, 1.14468151e-07],\n",
       "           [1.14468151e-07, 1.14468151e-07, 1.14468151e-07],\n",
       "           [1.14468151e-07, 1.14468151e-07, 1.14468151e-07],\n",
       "           ...,\n",
       "           [1.36226546e-07, 1.36226546e-07, 1.36226546e-07],\n",
       "           [1.14468151e-07, 1.14468151e-07, 1.14468151e-07],\n",
       "           [1.04298458e-07, 1.04298458e-07, 1.04298458e-07]],\n",
       "  \n",
       "          ...,\n",
       "  \n",
       "          [[1.36226546e-07, 1.36226546e-07, 1.36226546e-07],\n",
       "           [1.36226546e-07, 1.36226546e-07, 1.36226546e-07],\n",
       "           [1.36226546e-07, 1.36226546e-07, 1.36226546e-07],\n",
       "           ...,\n",
       "           [1.14468151e-07, 1.14468151e-07, 1.14468151e-07],\n",
       "           [1.14468151e-07, 1.14468151e-07, 1.14468151e-07],\n",
       "           [1.14468151e-07, 1.14468151e-07, 1.14468151e-07]],\n",
       "  \n",
       "          [[1.36226546e-07, 1.36226546e-07, 1.36226546e-07],\n",
       "           [1.25110844e-07, 1.25110844e-07, 1.25110844e-07],\n",
       "           [1.36226546e-07, 1.36226546e-07, 1.36226546e-07],\n",
       "           ...,\n",
       "           [1.14468151e-07, 1.14468151e-07, 1.14468151e-07],\n",
       "           [1.14468151e-07, 1.14468151e-07, 1.14468151e-07],\n",
       "           [1.14468151e-07, 1.14468151e-07, 1.14468151e-07]],\n",
       "  \n",
       "          [[1.59876990e-07, 1.59876990e-07, 1.59876990e-07],\n",
       "           [1.59876990e-07, 1.59876990e-07, 1.59876990e-07],\n",
       "           [1.59876990e-07, 1.59876990e-07, 1.59876990e-07],\n",
       "           ...,\n",
       "           [1.47815271e-07, 1.47815271e-07, 1.47815271e-07],\n",
       "           [1.47815271e-07, 1.47815271e-07, 1.47815271e-07],\n",
       "           [1.36226546e-07, 1.36226546e-07, 1.36226546e-07]]],\n",
       "  \n",
       "  \n",
       "         [[[8.35901301e-06, 8.44817441e-06, 7.92029732e-06],\n",
       "           [8.62791785e-06, 7.57783846e-06, 8.62791785e-06],\n",
       "           [6.83497819e-06, 6.75480351e-06, 6.59587249e-06],\n",
       "           ...,\n",
       "           [1.43889315e-06, 1.43889315e-06, 1.43889315e-06],\n",
       "           [8.51415962e-07, 8.51415962e-07, 8.51415962e-07],\n",
       "           [2.36504434e-06, 2.36504434e-06, 2.36504434e-06]],\n",
       "  \n",
       "          [[8.44817441e-06, 8.27032363e-06, 8.53780966e-06],\n",
       "           [8.80955304e-06, 7.66274388e-06, 6.99674729e-06],\n",
       "           [7.32596163e-06, 6.91562627e-06, 6.43883368e-06],\n",
       "           ...,\n",
       "           [1.62927915e-06, 1.62927915e-06, 1.62927915e-06],\n",
       "           [1.12599776e-06, 1.12599776e-06, 1.12599776e-06],\n",
       "           [2.60746128e-06, 2.60746128e-06, 2.60746128e-06]],\n",
       "  \n",
       "          [[8.00709404e-06, 8.09436460e-06, 8.27032363e-06],\n",
       "           [8.18210719e-06, 8.09436460e-06, 8.80955304e-06],\n",
       "           [8.71849898e-06, 8.27032363e-06, 8.80955304e-06],\n",
       "           ...,\n",
       "           [1.95849316e-06, 1.95849316e-06, 1.95849316e-06],\n",
       "           [1.19221897e-06, 1.19221897e-06, 1.19221897e-06],\n",
       "           [2.60746128e-06, 2.60746128e-06, 2.60746128e-06]],\n",
       "  \n",
       "          ...,\n",
       "  \n",
       "          [[3.46266143e-06, 3.46266143e-06, 3.46266143e-06],\n",
       "           [4.24667451e-06, 4.24667451e-06, 4.24667451e-06],\n",
       "           [5.25063570e-06, 5.25063570e-06, 5.25063570e-06],\n",
       "           ...,\n",
       "           [4.50399102e-06, 4.50399102e-06, 4.50399102e-06],\n",
       "           [4.50399102e-06, 4.50399102e-06, 4.50399102e-06],\n",
       "           [3.75474428e-06, 3.75474428e-06, 3.75474428e-06]],\n",
       "  \n",
       "          [[3.99692590e-06, 3.99692590e-06, 3.99692590e-06],\n",
       "           [4.12085410e-06, 4.12085410e-06, 4.12085410e-06],\n",
       "           [4.90415641e-06, 4.90415641e-06, 4.90415641e-06],\n",
       "           ...,\n",
       "           [4.37438666e-06, 4.37438666e-06, 4.37438666e-06],\n",
       "           [4.76887590e-06, 4.76887590e-06, 4.76887590e-06],\n",
       "           [3.93567097e-06, 3.93567097e-06, 3.93567097e-06]],\n",
       "  \n",
       "          [[3.40566385e-06, 3.40566385e-06, 3.40566385e-06],\n",
       "           [5.04132913e-06, 5.04132913e-06, 5.04132913e-06],\n",
       "           [5.11062490e-06, 5.11062490e-06, 5.11062490e-06],\n",
       "           ...,\n",
       "           [3.81457994e-06, 3.81457994e-06, 3.81457994e-06],\n",
       "           [4.43895260e-06, 4.43895260e-06, 4.43895260e-06],\n",
       "           [0.00000000e+00, 0.00000000e+00, 0.00000000e+00]]],\n",
       "  \n",
       "  \n",
       "         [[[1.53787023e-05, 1.53787023e-05, 1.53787023e-05],\n",
       "           [1.53787023e-05, 1.53787023e-05, 1.53787023e-05],\n",
       "           [1.53787023e-05, 1.53787023e-05, 1.53787023e-05],\n",
       "           ...,\n",
       "           [1.53787023e-05, 1.53787023e-05, 1.53787023e-05],\n",
       "           [1.53787023e-05, 1.53787023e-05, 1.53787023e-05],\n",
       "           [1.53787023e-05, 1.53787023e-05, 1.53787023e-05]],\n",
       "  \n",
       "          [[1.53787023e-05, 1.53787023e-05, 1.53787023e-05],\n",
       "           [1.40805278e-05, 1.40805278e-05, 1.40805278e-05],\n",
       "           [1.21868370e-05, 1.21868370e-05, 1.21868370e-05],\n",
       "           ...,\n",
       "           [1.18668468e-05, 1.18668468e-05, 1.18668468e-05],\n",
       "           [1.38506457e-05, 1.38506457e-05, 1.38506457e-05],\n",
       "           [1.53787023e-05, 1.53787023e-05, 1.53787023e-05]],\n",
       "  \n",
       "          [[1.53787023e-05, 1.53787023e-05, 1.53787023e-05],\n",
       "           [5.82959819e-06, 5.82959819e-06, 5.82959819e-06],\n",
       "           [2.31797981e-06, 2.31797981e-06, 2.31797981e-06],\n",
       "           ...,\n",
       "           [2.00177351e-06, 2.00177351e-06, 2.00177351e-06],\n",
       "           [2.55803184e-06, 2.55803184e-06, 2.55803184e-06],\n",
       "           [1.53787023e-05, 1.53787023e-05, 1.53787023e-05]],\n",
       "  \n",
       "          ...,\n",
       "  \n",
       "          [[1.53787023e-05, 1.53787023e-05, 1.53787023e-05],\n",
       "           [5.32135027e-06, 5.32135027e-06, 5.32135027e-06],\n",
       "           [3.46266143e-06, 3.46266143e-06, 3.46266143e-06],\n",
       "           ...,\n",
       "           [5.68201949e-06, 5.68201949e-06, 5.68201949e-06],\n",
       "           [1.53787023e-05, 1.53787023e-05, 1.53787023e-05],\n",
       "           [1.53787023e-05, 1.53787023e-05, 1.53787023e-05]],\n",
       "  \n",
       "          [[1.53787023e-05, 1.53787023e-05, 1.53787023e-05],\n",
       "           [1.53787023e-05, 1.53787023e-05, 1.53787023e-05],\n",
       "           [1.46635111e-05, 1.46635111e-05, 1.46635111e-05],\n",
       "           ...,\n",
       "           [0.00000000e+00, 0.00000000e+00, 0.00000000e+00],\n",
       "           [0.00000000e+00, 0.00000000e+00, 0.00000000e+00],\n",
       "           [1.53787023e-05, 1.53787023e-05, 1.53787023e-05]],\n",
       "  \n",
       "          [[1.53787023e-05, 1.53787023e-05, 1.53787023e-05],\n",
       "           [1.53787023e-05, 1.53787023e-05, 1.53787023e-05],\n",
       "           [1.51384120e-05, 1.51384120e-05, 1.51384120e-05],\n",
       "           ...,\n",
       "           [1.53787023e-05, 1.53787023e-05, 1.53787023e-05],\n",
       "           [1.53787023e-05, 1.53787023e-05, 1.53787023e-05],\n",
       "           [1.53787023e-05, 1.53787023e-05, 1.53787023e-05]]],\n",
       "  \n",
       "  \n",
       "         ...,\n",
       "  \n",
       "  \n",
       "         [[[0.00000000e+00, 0.00000000e+00, 0.00000000e+00],\n",
       "           [0.00000000e+00, 0.00000000e+00, 0.00000000e+00],\n",
       "           [0.00000000e+00, 0.00000000e+00, 0.00000000e+00],\n",
       "           ...,\n",
       "           [8.80955304e-06, 1.02321274e-05, 1.05294130e-05],\n",
       "           [1.01339783e-05, 1.15511139e-05, 1.18668468e-05],\n",
       "           [1.10343517e-05, 1.25110846e-05, 1.26201130e-05]],\n",
       "  \n",
       "          [[0.00000000e+00, 0.00000000e+00, 0.00000000e+00],\n",
       "           [0.00000000e+00, 0.00000000e+00, 0.00000000e+00],\n",
       "           [0.00000000e+00, 0.00000000e+00, 0.00000000e+00],\n",
       "           ...,\n",
       "           [7.40944733e-06, 9.08555376e-06, 9.74611066e-06],\n",
       "           [8.62791785e-06, 1.02321274e-05, 1.09324183e-05],\n",
       "           [9.65032632e-06, 1.11367581e-05, 1.16558849e-05]],\n",
       "  \n",
       "          [[0.00000000e+00, 0.00000000e+00, 0.00000000e+00],\n",
       "           [0.00000000e+00, 0.00000000e+00, 0.00000000e+00],\n",
       "           [0.00000000e+00, 0.00000000e+00, 0.00000000e+00],\n",
       "           ...,\n",
       "           [1.05294130e-05, 1.19730375e-05, 1.19730375e-05],\n",
       "           [1.43123025e-05, 1.53787023e-05, 1.52583198e-05],\n",
       "           [1.39653503e-05, 1.46635111e-05, 1.46635111e-05]],\n",
       "  \n",
       "          ...,\n",
       "  \n",
       "          [[0.00000000e+00, 0.00000000e+00, 0.00000000e+00],\n",
       "           [0.00000000e+00, 0.00000000e+00, 0.00000000e+00],\n",
       "           [0.00000000e+00, 0.00000000e+00, 0.00000000e+00],\n",
       "           ...,\n",
       "           [1.00363013e-05, 1.15511139e-05, 1.18668468e-05],\n",
       "           [9.65032632e-06, 1.11367581e-05, 1.14468148e-05],\n",
       "           [9.08555376e-06, 1.05294130e-05, 1.10343517e-05]],\n",
       "  \n",
       "          [[0.00000000e+00, 0.00000000e+00, 0.00000000e+00],\n",
       "           [0.00000000e+00, 0.00000000e+00, 0.00000000e+00],\n",
       "           [0.00000000e+00, 0.00000000e+00, 0.00000000e+00],\n",
       "           ...,\n",
       "           [1.05294130e-05, 1.21868370e-05, 1.20797013e-05],\n",
       "           [1.00363013e-05, 1.15511139e-05, 1.18668468e-05],\n",
       "           [9.46017735e-06, 1.09324183e-05, 1.12396374e-05]],\n",
       "  \n",
       "          [[0.00000000e+00, 0.00000000e+00, 0.00000000e+00],\n",
       "           [0.00000000e+00, 0.00000000e+00, 0.00000000e+00],\n",
       "           [0.00000000e+00, 0.00000000e+00, 0.00000000e+00],\n",
       "           ...,\n",
       "           [1.05294130e-05, 1.21868370e-05, 1.21868370e-05],\n",
       "           [1.05294130e-05, 1.21868370e-05, 1.21868370e-05],\n",
       "           [9.65032632e-06, 1.11367581e-05, 1.14468148e-05]]],\n",
       "  \n",
       "  \n",
       "         [[[1.46635111e-05, 1.46635111e-05, 1.46635111e-05],\n",
       "           [1.46635111e-05, 1.46635111e-05, 1.46635111e-05],\n",
       "           [6.20682295e-06, 6.20682295e-06, 6.20682295e-06],\n",
       "           ...,\n",
       "           [4.12085410e-06, 4.12085410e-06, 4.12085410e-06],\n",
       "           [1.49000152e-05, 1.49000152e-05, 1.49000152e-05],\n",
       "           [1.49000152e-05, 1.49000152e-05, 1.49000152e-05]],\n",
       "  \n",
       "          [[1.46635111e-05, 1.46635111e-05, 1.46635111e-05],\n",
       "           [1.47815272e-05, 1.47815272e-05, 1.47815272e-05],\n",
       "           [3.40566385e-06, 3.40566385e-06, 3.40566385e-06],\n",
       "           ...,\n",
       "           [2.08975325e-06, 2.08975325e-06, 2.08975325e-06],\n",
       "           [1.52583198e-05, 1.52583198e-05, 1.52583198e-05],\n",
       "           [1.51384120e-05, 1.51384120e-05, 1.51384120e-05]],\n",
       "  \n",
       "          [[1.46635111e-05, 1.46635111e-05, 1.46635111e-05],\n",
       "           [1.50189771e-05, 1.50189771e-05, 1.50189771e-05],\n",
       "           [4.43895260e-06, 4.43895260e-06, 4.43895260e-06],\n",
       "           ...,\n",
       "           [2.08975325e-06, 2.08975325e-06, 2.08975325e-06],\n",
       "           [1.50189771e-05, 1.50189771e-05, 1.50189771e-05],\n",
       "           [1.49000152e-05, 1.49000152e-05, 1.49000152e-05]],\n",
       "  \n",
       "          ...,\n",
       "  \n",
       "          [[1.47815272e-05, 1.47815272e-05, 1.47815272e-05],\n",
       "           [1.47815272e-05, 1.47815272e-05, 1.47815272e-05],\n",
       "           [8.51415916e-09, 8.51415916e-09, 8.51415916e-09],\n",
       "           ...,\n",
       "           [2.12853990e-07, 2.12853990e-07, 2.12853990e-07],\n",
       "           [1.51384120e-05, 1.51384120e-05, 1.51384120e-05],\n",
       "           [1.53787023e-05, 1.53787023e-05, 1.53787023e-05]],\n",
       "  \n",
       "          [[1.47815272e-05, 1.47815272e-05, 1.47815272e-05],\n",
       "           [1.47815272e-05, 1.47815272e-05, 1.47815272e-05],\n",
       "           [3.40566366e-08, 3.40566366e-08, 3.40566366e-08],\n",
       "           ...,\n",
       "           [1.51362869e-08, 1.51362869e-08, 1.51362869e-08],\n",
       "           [1.52583198e-05, 1.52583198e-05, 1.52583198e-05],\n",
       "           [1.52583198e-05, 1.52583198e-05, 1.52583198e-05]],\n",
       "  \n",
       "          [[1.49000152e-05, 1.49000152e-05, 1.49000152e-05],\n",
       "           [1.47815272e-05, 1.47815272e-05, 1.47815272e-05],\n",
       "           [1.26033228e-06, 1.26033228e-06, 1.26033228e-06],\n",
       "           ...,\n",
       "           [0.00000000e+00, 0.00000000e+00, 0.00000000e+00],\n",
       "           [1.49000152e-05, 1.49000152e-05, 1.49000152e-05],\n",
       "           [1.53787023e-05, 1.53787023e-05, 1.53787023e-05]]],\n",
       "  \n",
       "  \n",
       "         [[[8.51415916e-09, 6.05451476e-08, 1.33033757e-06],\n",
       "           [4.63548702e-08, 2.27280765e-07, 2.36504434e-06],\n",
       "           [7.15425927e-07, 2.08975325e-06, 7.07834124e-06],\n",
       "           ...,\n",
       "           [5.91261129e-09, 2.86170376e-08, 8.23271932e-07],\n",
       "           [2.12853979e-09, 1.15887175e-08, 4.17193831e-07],\n",
       "           [2.36504483e-10, 5.91261129e-09, 2.42180590e-07]],\n",
       "  \n",
       "          [[8.51415916e-09, 6.05451476e-08, 1.12599776e-06],\n",
       "           [1.15887175e-08, 8.53781117e-08, 1.40223494e-06],\n",
       "           [3.97563980e-07, 1.36604979e-06, 5.82959819e-06],\n",
       "           ...,\n",
       "           [5.91261129e-09, 4.63548702e-08, 1.12599776e-06],\n",
       "           [3.78407172e-09, 1.91568610e-08, 5.22438313e-07],\n",
       "           [5.91261129e-09, 1.91568610e-08, 5.00443377e-07]],\n",
       "  \n",
       "          [[1.91568610e-08, 1.04298458e-07, 1.47602429e-06],\n",
       "           [1.91568610e-08, 7.66274439e-08, 1.33033757e-06],\n",
       "           [5.22438313e-07, 1.59025592e-06, 6.28368662e-06],\n",
       "           ...,\n",
       "           [1.15887175e-08, 7.66274439e-08, 1.29509840e-06],\n",
       "           [5.91261129e-09, 2.36504452e-08, 6.39507959e-07],\n",
       "           [5.91261129e-09, 3.40566366e-08, 7.41677923e-07]],\n",
       "  \n",
       "          ...,\n",
       "  \n",
       "          [[5.91261129e-09, 6.83497916e-08, 1.12599776e-06],\n",
       "           [6.83497916e-08, 2.73399166e-07, 2.55803184e-06],\n",
       "           [2.89717974e-07, 1.03021353e-06, 5.04132913e-06],\n",
       "           ...,\n",
       "           [2.86170376e-08, 1.85419481e-07, 2.27138844e-06],\n",
       "           [5.32134976e-08, 2.57553381e-07, 2.80990935e-06],\n",
       "           [1.91568610e-08, 9.46017806e-08, 1.59025592e-06]],\n",
       "  \n",
       "          [[5.91261129e-09, 3.99692475e-08, 9.09123060e-07],\n",
       "           [2.86170376e-08, 1.72411745e-07, 1.87335161e-06],\n",
       "           [1.98900239e-07, 7.15425927e-07, 4.12085410e-06],\n",
       "           ...,\n",
       "           [6.83497916e-08, 2.89717974e-07, 2.91397123e-06],\n",
       "           [6.83497916e-08, 3.06509776e-07, 3.01992532e-06],\n",
       "           [8.51415916e-09, 3.40566366e-08, 9.68722361e-07]],\n",
       "  \n",
       "          [[8.51415916e-09, 1.51362869e-08, 5.22438313e-07],\n",
       "           [1.91568610e-08, 8.53781117e-08, 1.43889315e-06],\n",
       "           [3.40566366e-08, 1.85419481e-07, 1.91568597e-06],\n",
       "           ...,\n",
       "           [1.91568610e-08, 1.14468151e-07, 1.91568597e-06],\n",
       "           [8.51415916e-09, 2.36504452e-08, 7.15425927e-07],\n",
       "           [2.36504483e-10, 3.78407172e-09, 1.25110844e-07]]]],\n",
       "        dtype=float32),\n",
       "  'is_outlier': array([0, 0, 1, 0, 1, 0, 0, 0, 0, 0, 0, 0, 1, 0, 0, 1, 1, 0, 0, 0, 0, 0,\n",
       "         1, 0, 0, 1, 0, 0, 0, 0, 1, 0, 0, 1, 1, 0, 0, 1, 0, 0, 1, 0, 1])},\n",
       " 'meta': {'name': 'OutlierAE',\n",
       "  'online': False,\n",
       "  'data_type': None,\n",
       "  'version': '0.11.2',\n",
       "  'detector_type': 'outlier'}}"
      ]
     },
     "execution_count": 33,
     "metadata": {},
     "output_type": "execute_result"
    }
   ],
   "source": [
    "od.infer_threshold(test, threshold_perc=70)\n",
    "\n",
    "preds = od.predict(test, outlier_type='instance',return_instance_score=True,return_feature_score=True)\n",
    "preds"
   ]
  },
  {
   "cell_type": "code",
   "execution_count": 34,
   "id": "9bf787ab",
   "metadata": {
    "scrolled": true
   },
   "outputs": [
    {
     "name": "stdout",
     "output_type": "stream",
     "text": [
      "    is_outlier\n",
      "2            1\n",
      "4            1\n",
      "12           1\n",
      "15           1\n",
      "16           1\n",
      "22           1\n",
      "25           1\n",
      "30           1\n",
      "33           1\n",
      "34           1\n",
      "37           1\n",
      "40           1\n",
      "42           1\n"
     ]
    }
   ],
   "source": [
    "\n",
    "\n",
    "dict1 = {'is_outlier': preds['data']['is_outlier']}\n",
    "\n",
    "\n",
    "df = pd.DataFrame(dict1)\n",
    "df_outliers = df[df['is_outlier'] == 1]\n",
    "\n",
    "print(df_outliers)\n"
   ]
  },
  {
   "cell_type": "code",
   "execution_count": null,
   "id": "1d294438",
   "metadata": {},
   "outputs": [],
   "source": []
  }
 ],
 "metadata": {
  "kernelspec": {
   "display_name": "Python 3 (ipykernel)",
   "language": "python",
   "name": "python3"
  },
  "language_info": {
   "codemirror_mode": {
    "name": "ipython",
    "version": 3
   },
   "file_extension": ".py",
   "mimetype": "text/x-python",
   "name": "python",
   "nbconvert_exporter": "python",
   "pygments_lexer": "ipython3",
   "version": "3.9.13"
  }
 },
 "nbformat": 4,
 "nbformat_minor": 5
}
